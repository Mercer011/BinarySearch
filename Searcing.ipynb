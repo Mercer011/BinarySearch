{
 "cells": [
  {
   "cell_type": "code",
   "execution_count": 3,
   "metadata": {},
   "outputs": [
    {
     "name": "stdout",
     "output_type": "stream",
     "text": [
      "[31, 33, 35, 37, 39, 41, 43, 45, 47, 49, 51, 53, 55, 57, 59, 61, 63, 65, 67, 69, 71, 73, 75, 77, 79, 81, 83, 85, 87, 89, 91, 93, 95, 97, 99]\n",
      "Not found\n"
     ]
    }
   ],
   "source": [
    "import random\n",
    "arr = list(range(random.randint(0,100),100,2))  #creates an list of random integer with a gap of 2 between them\n",
    "\n",
    "print(arr)#prints the created list \n",
    "n = int(input(\"Enter number: \"))# user provides an input\n",
    "start = 0 #start of the list\n",
    "end = len(arr) - 1  #end of the list which is 1 less than the lenght of the list\n",
    "print(arr)\n",
    "while start <= end: \n",
    "    mid = start + (end-start)//2 #middle of the list is decided here\n",
    "    if arr[mid] == n:# it starts checking if the given input by the user is same as the middle element of the list\n",
    "        print(f\"Index is: {mid}\")\n",
    "        break\n",
    "    elif arr[mid] > n: #if index of the n is greater then middle of the list then we divide the list into two halves and \n",
    "        #the algorithm is run through first half.\n",
    "        end = mid - 1\n",
    "    else:\n",
    "        start = mid + 1#else second half is selected and the algorithm goes through it\n",
    "else:\n",
    "    print(\"Not found\")#if the element is not found in the list then Not found is printed."
   ]
  }
 ],
 "metadata": {
  "kernelspec": {
   "display_name": "base",
   "language": "python",
   "name": "python3"
  },
  "language_info": {
   "codemirror_mode": {
    "name": "ipython",
    "version": 3
   },
   "file_extension": ".py",
   "mimetype": "text/x-python",
   "name": "python",
   "nbconvert_exporter": "python",
   "pygments_lexer": "ipython3",
   "version": "3.9.12"
  },
  "orig_nbformat": 4
 },
 "nbformat": 4,
 "nbformat_minor": 2
}
